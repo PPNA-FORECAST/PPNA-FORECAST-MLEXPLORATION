{
 "cells": [
  {
   "cell_type": "markdown",
   "id": "eaba6926",
   "metadata": {},
   "source": [
    "---\n",
    "\n",
    "<center>\n",
    "<h1>Pronóstico de la productividad forrajera y balance</h1>\n",
    "<h1>hídrico en la región de los pastizales del Río de la Plata</h1>\n",
    "</center>\n",
    "\n",
    "---\n",
    "\n",
    "\n",
    "<br>\n",
    "<br>\n",
    "<ul>\n",
    "    <li>Bartol, Tomás Augusto</li>\n",
    "    <li>Peiretti, Pablo </li>\n",
    "    <li>Sánchez, Milagros Verónica </li>\n",
    "</li>\n",
    "</ul>\n",
    "\n",
    "\n",
    "<br>\n",
    "<h2>Abstract</h2>\n",
    "\n",
    "This notebook was created with the purpose of performing data normalization on the information provided by the photodetection department of the Buenos Aires University."
   ]
  },
  {
   "cell_type": "code",
   "execution_count": 193,
   "id": "a7533684",
   "metadata": {},
   "outputs": [],
   "source": [
    "### import modules ###\n",
    "import pandas as pd"
   ]
  },
  {
   "cell_type": "code",
   "execution_count": 215,
   "id": "d61f408e",
   "metadata": {},
   "outputs": [],
   "source": [
    "### NORMALIZE PPNA ###\n",
    "ppna_df = pd.read_csv('database\\PPNA_denso_16d_fechas_ordenadas.csv')\n",
    "date_df = pd.read_csv('database\\\\fechas.csv')\n",
    "cord_df = pd.read_csv('database\\cord.csv')\n",
    "\n",
    "ppna_df = pd.melt(ppna_df, id_vars=['id_ppna','latitude', 'length'], var_name='id_cord', value_name='valor_ppna')\n",
    "ppna_df = date_df.merge(ppna_df, on='id_ppna', how='inner')\n",
    "ppna_df['id_cord'] = pd.to_numeric(ppna_df['id_cord'], errors='coerce', downcast='integer')\n",
    "ppna_df = cord_df.merge(ppna_df, on='id_cord', how='inner')\n",
    "ppna_df = ppna_df[['date ','latitude_x', 'longitude', 'valor_ppna']]"
   ]
  },
  {
   "cell_type": "code",
   "execution_count": 216,
   "id": "814b51c1",
   "metadata": {},
   "outputs": [],
   "source": [
    "### NORMALIZE PPT ###\n",
    "ppt_df = pd.read_csv('database\\PPT_denso_16d_fechas_ordenadas.csv')\n",
    "ppt_df = pd.melt(ppt_df, id_vars=['id_ppt','latitude', 'length'], var_name='id_cord', value_name='valor_ppt')\n",
    "ppt_df = date_df.merge(ppt_df, on='id_ppt', how='inner')\n",
    "ppt_df['id_cord'] = pd.to_numeric(ppt_df['id_cord'], errors='coerce', downcast='integer')\n",
    "ppt_df = cord_df.merge(ppt_df, on='id_cord', how='inner')\n",
    "ppt_df = ppt_df[['date ','latitude_x', 'longitude', 'valor_ppt']]\n"
   ]
  },
  {
   "cell_type": "code",
   "execution_count": 217,
   "id": "8ade46d5",
   "metadata": {},
   "outputs": [],
   "source": [
    "### NORMALIZE TEMP ###\n",
    "temp_df = pd.read_csv('database\\TEMP_denso_16d_fechas_ordenadas.csv')\n",
    "temp_df = pd.melt(temp_df, id_vars=['id_temp','latitude', 'length'], var_name='id_cord', value_name='valor_temp')\n",
    "\n",
    "temp_df = date_df.merge(temp_df, on='id_temp', how='inner')\n",
    "temp_df['id_cord'] = pd.to_numeric(temp_df['id_cord'], errors='coerce', downcast='integer')\n",
    "temp_df = cord_df.merge(temp_df, on='id_cord', how='inner')\n",
    "temp_df = temp_df[['date ','latitude_x', 'longitude', 'valor_temp']]"
   ]
  },
  {
   "cell_type": "code",
   "execution_count": 222,
   "id": "c07da245",
   "metadata": {},
   "outputs": [],
   "source": [
    "### EXPORT ### \n",
    "ppna = 'ppna.xlsx'\n",
    "ppt = 'ppt.xlsx'\n",
    "temp = 'temp.xlsx'\n",
    "nombre_hoja = 'mi_hoja'\n",
    "\n",
    "# Exporta el DataFrame a un archivo Excel\n",
    "temp_df.to_excel(temp, sheet_name=nombre_hoja, index=True)\n",
    "ppna_df.to_excel(ppna, sheet_name=nombre_hoja, index=True)\n",
    "ppt_df.to_excel(ppt, sheet_name=nombre_hoja, index=True)\n"
   ]
  },
  {
   "cell_type": "code",
   "execution_count": 247,
   "id": "88a09eda",
   "metadata": {},
   "outputs": [],
   "source": [
    "ppna_df = pd.read_csv('ppna.csv')\n",
    "ppt_df = pd.read_csv('ppt.csv')\n",
    "temp_df = pd.read_csv('temp.csv')\n",
    "\n",
    "df =  ppna_df.merge(ppt_df, on='id', how='inner')\n",
    "df =  df.merge(temp_df, on='id', how='inner')\n",
    "df = df[['date _x', 'longitude_x','latitude_x_x', 'valor_ppna', 'valor_ppt', 'valor_temp']]"
   ]
  },
  {
   "cell_type": "code",
   "execution_count": 249,
   "id": "c9df76f6",
   "metadata": {},
   "outputs": [],
   "source": [
    "### EXPORT ### \n",
    "df.to_csv('database.csv', index=True)"
   ]
  },
  {
   "cell_type": "code",
   "execution_count": 248,
   "id": "1871e5fc",
   "metadata": {},
   "outputs": [
    {
     "name": "stdout",
     "output_type": "stream",
     "text": [
      "           date _x  longitude_x  latitude_x_x  valor_ppna   valor_ppt  \\\n",
      "0         1/1/2001   -56.832420    -31.544792  405.340618   76.155505   \n",
      "1        1/17/2001   -56.832420    -31.544792  362.433361   91.647396   \n",
      "2         2/2/2001   -56.832420    -31.544792  420.441046   80.999538   \n",
      "3        2/18/2001   -56.832420    -31.544792  335.261458   88.673292   \n",
      "4         3/6/2001   -56.832420    -31.544792  301.399079    5.496469   \n",
      "...            ...          ...           ...         ...         ...   \n",
      "689995  10/15/2020   -57.716514    -31.594792  358.278813   38.972820   \n",
      "689996  10/31/2020   -57.716514    -31.594792  458.887961    6.287209   \n",
      "689997  11/16/2020   -57.716514    -31.594792  385.684877   61.482739   \n",
      "689998   12/2/2020   -57.716514    -31.594792  358.895048  113.424375   \n",
      "689999  12/18/2020   -57.716514    -31.594792  504.507698   38.967210   \n",
      "\n",
      "        valor_temp  \n",
      "0        24.333897  \n",
      "1        23.921929  \n",
      "2        24.132180  \n",
      "3        26.170466  \n",
      "4        24.043910  \n",
      "...            ...  \n",
      "689995   21.318121  \n",
      "689996   20.565697  \n",
      "689997   23.886589  \n",
      "689998   22.063381  \n",
      "689999   24.674851  \n",
      "\n",
      "[690000 rows x 6 columns]\n"
     ]
    }
   ],
   "source": [
    "print (df)"
   ]
  },
  {
   "cell_type": "code",
   "execution_count": null,
   "id": "85975b12",
   "metadata": {},
   "outputs": [],
   "source": []
  }
 ],
 "metadata": {
  "kernelspec": {
   "display_name": "Python 3 (ipykernel)",
   "language": "python",
   "name": "python3"
  },
  "language_info": {
   "codemirror_mode": {
    "name": "ipython",
    "version": 3
   },
   "file_extension": ".py",
   "mimetype": "text/x-python",
   "name": "python",
   "nbconvert_exporter": "python",
   "pygments_lexer": "ipython3",
   "version": "3.10.9"
  }
 },
 "nbformat": 4,
 "nbformat_minor": 5
}
