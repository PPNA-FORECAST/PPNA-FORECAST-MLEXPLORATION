{
 "cells": [
  {
   "cell_type": "markdown",
   "metadata": {},
   "source": [
    "---\n",
    "\n",
    "<center>\n",
    "<h1>Pronóstico de la productividad forrajera y balance</h1>\n",
    "<h1>hídrico en la región de los pastizales del Río de la Plata</h1>\n",
    "</center>\n",
    "\n",
    "---\n",
    "\n",
    "\n",
    "<br>\n",
    "<br>\n",
    "<ul>\n",
    "    <li>Bartol, Tomás Augusto</li>\n",
    "    <li>Peiretti, Pablo </li>\n",
    "    <li>Sánchez, Milagros Verónica </li>\n",
    "</li>\n",
    "</ul>\n",
    "\n",
    "\n",
    "<br>\n",
    "<h2>Abstract</h2>\n",
    "\n",
    "This notebook was created with the purpose of performing data normalization on the information provided by the photodetection department of the Buenos Aires University."
   ]
  },
  {
   "cell_type": "code",
   "execution_count": 95,
   "metadata": {},
   "outputs": [],
   "source": [
    "### Load the imports ### \n",
    "import numpy as np\n",
    "import pandas as pd\n",
    "import tensorflow as tf\n",
    "import keras\n",
    "from tensorflow.keras import layers, models\n",
    "from matplotlib import pyplot as plt\n",
    "from datetime import datetime\n",
    "from sklearn.model_selection import train_test_split\n",
    "from sklearn.model_selection import KFold\n",
    "from sklearn.metrics import mean_squared_error\n",
    "\n",
    "### The following lines adjust the granularity of reporting. ### \n",
    "pd.options.display.max_rows = 10\n",
    "pd.options.display.float_format = \"{:.1f}\".format"
   ]
  },
  {
   "cell_type": "code",
   "execution_count": 2,
   "metadata": {},
   "outputs": [],
   "source": [
    "### Define program constants ### \n",
    "DATABASE_PATH = \"Database\\database.csv\"\n",
    "SEQUENCE_LEN = 26 #26 points equals 26*15 days equals a year aprox."
   ]
  },
  {
   "cell_type": "code",
   "execution_count": 3,
   "metadata": {},
   "outputs": [],
   "source": [
    "# Load the dataset\n",
    "aux_df = pd.read_csv(DATABASE_PATH)\n",
    "scale_factor = 1000.0\n",
    "# Shuffle the examples\n",
    "#train_df = train_df.reindex(np.random.permutation(train_df.index))\n",
    "#print(aux_df[['date']])"
   ]
  },
  {
   "cell_type": "code",
   "execution_count": 4,
   "metadata": {},
   "outputs": [],
   "source": [
    "def convert_to_timestamp(date_str):\n",
    "\n",
    "    if(isinstance(aux_df['date'][0], np.int64)):\n",
    "      return False #NOT ROBUST, FAILS IF RUN TWICE ON THE SAME DF\n",
    "\n",
    "    date_obj = datetime.strptime(date_str, \"%m/%d/%Y\")\n",
    "    return int(date_obj.timestamp())# * 1000) Optional multiplication by 1000 to turn into miliseconds.\n",
    "\n",
    "\n",
    "aux_df['date'] = aux_df['date'].apply(convert_to_timestamp)"
   ]
  },
  {
   "cell_type": "code",
   "execution_count": 5,
   "metadata": {},
   "outputs": [
    {
     "name": "stdout",
     "output_type": "stream",
     "text": [
      "2001 1 1\n"
     ]
    }
   ],
   "source": [
    "#Check if dates are correctly turned into a timsetamp format\n",
    "date = datetime.fromtimestamp(aux_df['date'][0])\n",
    "year = date.year\n",
    "month = date.month\n",
    "day = date.day\n",
    "\n",
    "print(year, day, month)"
   ]
  },
  {
   "cell_type": "code",
   "execution_count": 7,
   "metadata": {},
   "outputs": [],
   "source": [
    "#divide the dataframe into three sections (train, test, validation) with roughly a 70-20-10 distribution\n",
    "#The samples are divided secuentially to improve the RNN performance\n",
    "\n",
    "train_df, test_df = train_test_split(aux_df, test_size=0.3, shuffle=False)  # 70% to training df and 30% to testing df\n",
    "test_df, val_df = train_test_split(test_df, test_size=0.1, shuffle=False)  # Of the 30%, 66.67% goes to training and 33.33% to validation\n",
    "\n",
    "train_df['past_ppna'] = train_df['ppna'].shift(1)\n",
    "val_df['past_ppna'] = val_df['ppna'].shift(1)\n",
    "test_df['past_ppna'] = test_df['ppna'].shift(1)\n",
    "\n",
    "# To make each df length divisible by the batches in the model building section\n",
    "train_df = train_df[:-(len(train_df) % SEQUENCE_LEN)]\n",
    "val_df = val_df[:-(len(val_df) % SEQUENCE_LEN)]\n",
    "test_df = test_df[:-(len(test_df) % SEQUENCE_LEN)]\n"
   ]
  },
  {
   "cell_type": "code",
   "execution_count": 39,
   "metadata": {},
   "outputs": [
    {
     "name": "stdout",
     "output_type": "stream",
     "text": [
      "669301   247.2\n",
      "669302   294.2\n",
      "669303   287.8\n",
      "669304   238.3\n",
      "669305   176.7\n",
      "          ... \n",
      "689991   202.3\n",
      "689992   143.8\n",
      "689993   297.8\n",
      "689994   311.1\n",
      "689995   358.3\n",
      "Name: ppna, Length: 20695, dtype: float64\n",
      "669301   271.9\n",
      "669302   247.2\n",
      "669303   294.2\n",
      "669304   287.8\n",
      "669305   238.3\n",
      "          ... \n",
      "689991   144.4\n",
      "689992   202.3\n",
      "689993   143.8\n",
      "689994   297.8\n",
      "689995   311.1\n",
      "Name: past_ppna, Length: 20695, dtype: float64\n"
     ]
    }
   ],
   "source": [
    "### Delete the first row that has no previous PPNA data to make predictions ###\n",
    "### TODO: test y validation deberian tomar la info previa de la ppna del df previo. ###\n",
    "### Es decir, test puede usar la ppna de train para predecir porque es division secuencial ###\n",
    "### y val puede usar la de test por la misma razon ###\n",
    "\n",
    "#Deletes every row with a NaN \n",
    "train_df = train_df.dropna()\n",
    "test_df = test_df.dropna()\n",
    "val_df = val_df.dropna()\n",
    "\n",
    "#To show that the columns are the same but displaced one position, hence each prediction is going to use\n",
    "#The ppna up to the previous meassurement\n",
    "print(val_df['ppna'])\n",
    "print(val_df['past_ppna'])"
   ]
  },
  {
   "cell_type": "markdown",
   "metadata": {},
   "source": [
    "DATA NORMALIZATION INFO\n",
    "\n",
    "https://medium.com/@spinjosovsky/normalize-data-before-or-after-split-of-training-and-testing-data-7b8005f81e26\n",
    "https://datascience.stackexchange.com/questions/27615/should-we-apply-normalization-to-test-data-as-well"
   ]
  },
  {
   "cell_type": "code",
   "execution_count": 40,
   "metadata": {},
   "outputs": [],
   "source": [
    "# Normalization of every dataframe. The chosen normalization uses mean and standard deviation\n",
    "# Every Dataframe must be normalized by the same values, hence the train df mean and deviation are saved\n",
    "train_mean = train_df.mean()\n",
    "train_std = train_df.std()\n",
    "\n",
    "\n",
    "def normalize_data(data, mean, std):\n",
    "    return (data - mean) / std\n",
    "\n",
    "#The id field shouldn't be normalized yet is not used in the model\n",
    "train_normalized = normalize_data(train_df, train_mean, train_std)\n",
    "val_normalized = normalize_data(val_df, train_mean, train_std)\n",
    "test_normalized = normalize_data(test_df, train_mean, train_std)"
   ]
  },
  {
   "cell_type": "code",
   "execution_count": 41,
   "metadata": {},
   "outputs": [],
   "source": [
    "# Keras Input tensors of float values.\n",
    "#The prediction is going to use one value for lat, long, precipitation, temperature (the ones on the date desired to estimate)\n",
    "#and the SEQUENCE_LEN previous values of ppna\n",
    "inputs = {\n",
    "    'date':\n",
    "        tf.keras.layers.Input(shape=(1,), dtype=tf.float32,\n",
    "                              name='date'),\n",
    "    'latitude':\n",
    "        tf.keras.layers.Input(shape=(1,), dtype=tf.float32,\n",
    "                              name='latitude'),\n",
    "    'longitude':\n",
    "        tf.keras.layers.Input(shape=(1,), dtype=tf.float32,\n",
    "                              name='longitude'),\n",
    "    'past_ppna':\n",
    "        tf.keras.layers.Input(shape=(SEQUENCE_LEN, 1), dtype=tf.float32,\n",
    "                             name='past_ppna'),\n",
    "    'precipitation':\n",
    "        tf.keras.layers.Input(shape=(1,), dtype=tf.float32,\n",
    "                              name='precipitation'),\n",
    "    'temperature':\n",
    "        tf.keras.layers.Input(shape=(1,), dtype=tf.float32,\n",
    "                              name='temperature')\n",
    "}"
   ]
  },
  {
   "cell_type": "code",
   "execution_count": 42,
   "metadata": {},
   "outputs": [
    {
     "name": "stdout",
     "output_type": "stream",
     "text": [
      "Model: \"model\"\n",
      "__________________________________________________________________________________________________\n",
      " Layer (type)                Output Shape                 Param #   Connected to                  \n",
      "==================================================================================================\n",
      " past_ppna (InputLayer)      [(None, 26, 1)]              0         []                            \n",
      "                                                                                                  \n",
      " date (InputLayer)           [(None, 1)]                  0         []                            \n",
      "                                                                                                  \n",
      " latitude (InputLayer)       [(None, 1)]                  0         []                            \n",
      "                                                                                                  \n",
      " longitude (InputLayer)      [(None, 1)]                  0         []                            \n",
      "                                                                                                  \n",
      " precipitation (InputLayer)  [(None, 1)]                  0         []                            \n",
      "                                                                                                  \n",
      " temperature (InputLayer)    [(None, 1)]                  0         []                            \n",
      "                                                                                                  \n",
      " lstm (LSTM)                 (None, 64)                   16896     ['past_ppna[0][0]']           \n",
      "                                                                                                  \n",
      " concatenate (Concatenate)   (None, 69)                   0         ['date[0][0]',                \n",
      "                                                                     'latitude[0][0]',            \n",
      "                                                                     'longitude[0][0]',           \n",
      "                                                                     'precipitation[0][0]',       \n",
      "                                                                     'temperature[0][0]',         \n",
      "                                                                     'lstm[0][0]']                \n",
      "                                                                                                  \n",
      " ppna_output (Dense)         (None, 1)                    70        ['concatenate[0][0]']         \n",
      "                                                                                                  \n",
      "==================================================================================================\n",
      "Total params: 16966 (66.27 KB)\n",
      "Trainable params: 16966 (66.27 KB)\n",
      "Non-trainable params: 0 (0.00 Byte)\n",
      "__________________________________________________________________________________________________\n"
     ]
    }
   ],
   "source": [
    "# Define the model for the NN\n",
    "# LSTM layer with 64 nodes processing the ppna -- the only parameter that takes info from the past\n",
    "lstm_layer = tf.keras.layers.LSTM(64)(inputs['past_ppna'])\n",
    "\n",
    "# Concatenate the inputs and LSTM output to provide the model tools to learn the patterns\n",
    "concatenated_features = tf.keras.layers.concatenate([inputs['date'], inputs['latitude'], inputs['longitude'], inputs['precipitation'], inputs['temperature'], lstm_layer])\n",
    "\n",
    "# Output Layer, with just one output (Estimated PPNA) that receives the concatenated features\n",
    "output = tf.keras.layers.Dense(1, name='ppna_output')(concatenated_features)\n",
    "\n",
    "# Create the model\n",
    "model = tf.keras.Model(inputs=inputs, outputs=output)\n",
    "\n",
    "# Compile the model\n",
    "model.compile(optimizer='adam', loss='mean_squared_error', metrics=['mae', 'accuracy'])\n",
    "model.summary()"
   ]
  },
  {
   "cell_type": "code",
   "execution_count": 43,
   "metadata": {},
   "outputs": [
    {
     "name": "stdout",
     "output_type": "stream",
     "text": [
      "Epoch 1/5\n",
      "7547/7547 [==============================] - 64s 6ms/step - loss: 0.2382 - mae: 0.3807 - accuracy: 0.0000e+00 - val_loss: 0.2366 - val_mae: 0.3803 - val_accuracy: 0.0000e+00\n",
      "Epoch 2/5\n",
      "7547/7547 [==============================] - 45s 6ms/step - loss: 0.2285 - mae: 0.3732 - accuracy: 0.0000e+00 - val_loss: 0.2366 - val_mae: 0.3803 - val_accuracy: 0.0000e+00\n",
      "Epoch 3/5\n",
      "7547/7547 [==============================] - 46s 6ms/step - loss: 0.2285 - mae: 0.3732 - accuracy: 0.0000e+00 - val_loss: 0.2375 - val_mae: 0.3809 - val_accuracy: 0.0000e+00\n",
      "Epoch 4/5\n",
      "7547/7547 [==============================] - 43s 6ms/step - loss: 0.2285 - mae: 0.3732 - accuracy: 0.0000e+00 - val_loss: 0.2367 - val_mae: 0.3801 - val_accuracy: 0.0000e+00\n",
      "Epoch 5/5\n",
      "7547/7547 [==============================] - 40s 5ms/step - loss: 0.2284 - mae: 0.3731 - accuracy: 0.0000e+00 - val_loss: 0.2367 - val_mae: 0.3799 - val_accuracy: 0.0000e+00\n",
      "5822/5822 [==============================] - 27s 4ms/step - loss: 0.2258 - mae: 0.3702 - accuracy: 0.0000e+00\n",
      "Pérdida en el conjunto de prueba: [0.22579987347126007, 0.3702073395252228, 0.0]\n"
     ]
    }
   ],
   "source": [
    "#Model training\n",
    "\n",
    "#Define the training parameters\n",
    "epochs = 5  \n",
    "batch_size = 64 \n",
    "\n",
    "#Define the features and labels for each section of the process.\n",
    "#The label is the ppna (what we want to predict)\n",
    "#The features are the values used to predict said label (previous ppna, precipitations, temperature, lat, long, date)\n",
    "train_labels = train_normalized['ppna'] \n",
    "train_features = {\n",
    "    'date': train_normalized['date'],\n",
    "    'latitude': train_normalized['latitude'],\n",
    "    'longitude': train_normalized['longitude'],\n",
    "    'precipitation': train_normalized['ppt'],\n",
    "    'temperature': train_normalized['temp'],\n",
    "    'past_ppna': train_normalized['past_ppna']  \n",
    "}\n",
    "\n",
    "val_labels = val_normalized['ppna'] \n",
    "val_features = {\n",
    "         'date': val_normalized['date'],\n",
    "         'latitude': val_normalized['latitude'],\n",
    "         'longitude': val_normalized['longitude'],\n",
    "         'precipitation': val_normalized['ppt'],\n",
    "         'temperature': val_normalized['temp'],\n",
    "         'past_ppna': val_normalized['past_ppna'] \n",
    "}\n",
    "\n",
    "test_labels = test_normalized['ppna']\n",
    "test_features = {\n",
    "    'date': test_normalized['date'],\n",
    "    'latitude': test_normalized['latitude'],\n",
    "    'longitude': test_normalized['longitude'],\n",
    "    'precipitation': test_normalized['ppt'],\n",
    "    'temperature': test_normalized['temp'],\n",
    "    'past_ppna': test_normalized['past_ppna'] \n",
    "}\n",
    "\n",
    "#Train the model with the previously defined parameters and data\n",
    "history = model.fit(\n",
    "    train_features, \n",
    "    train_labels.values, \n",
    "    epochs=epochs,\n",
    "    batch_size=batch_size,\n",
    "    validation_data=(val_features, val_labels.values)  \n",
    ")\n",
    "\n",
    "# Evaluate the model\n",
    "test_loss = model.evaluate(test_features, test_labels)  \n",
    "\n",
    "print(\"Pérdida en el conjunto de prueba:\", test_loss)"
   ]
  },
  {
   "cell_type": "code",
   "execution_count": null,
   "metadata": {},
   "outputs": [],
   "source": [
    "valores = np.isnan(test_normalized['ppna'])\n",
    "\n",
    "print(np.where(valores)[0])\n",
    "#test_loss = model.evaluate(test_features, test_labels.values)  "
   ]
  },
  {
   "cell_type": "code",
   "execution_count": null,
   "metadata": {},
   "outputs": [],
   "source": [
    "\n",
    "\n"
   ]
  },
  {
   "cell_type": "code",
   "execution_count": null,
   "metadata": {},
   "outputs": [],
   "source": []
  },
  {
   "cell_type": "code",
   "execution_count": 44,
   "metadata": {},
   "outputs": [
    {
     "name": "stdout",
     "output_type": "stream",
     "text": [
      "5822/5822 [==============================] - 27s 4ms/step\n"
     ]
    }
   ],
   "source": [
    "output= model.predict(test_features)"
   ]
  },
  {
   "cell_type": "code",
   "execution_count": 45,
   "metadata": {},
   "outputs": [
    {
     "data": {
      "image/png": "[encoded data removed]",
      "text/plain": [
       "<Figure size 640x480 with 1 Axes>"
      ]
     },
     "metadata": {},
     "output_type": "display_data"
    }
   ],
   "source": [
    "indice = np.arange(1, 11)\n",
    "plt.scatter(indice, output[37972:37982], label='Model Output', color='blue', marker='o')\n",
    "plt.scatter(indice, test_labels.values[37972:37982], label='Labels', color='red', marker='x')\n",
    "# Agregar etiquetas al gráfico\n",
    "plt.xlabel('Índice')\n",
    "plt.ylabel('Valores')\n",
    "plt.title('Prueba resultados')\n",
    "\n",
    "# Agregar una leyenda\n",
    "plt.legend()\n",
    "\n",
    "# Mostrar el gráfico\n",
    "plt.show()"
   ]
  },
  {
   "cell_type": "code",
   "execution_count": null,
   "metadata": {},
   "outputs": [],
   "source": [
    "output[0:10]"
   ]
  },
  {
   "cell_type": "code",
   "execution_count": null,
   "metadata": {},
   "outputs": [],
   "source": [
    "print(test_labels.values[0:10])"
   ]
  },
  {
   "cell_type": "code",
   "execution_count": 103,
   "metadata": {},
   "outputs": [
    {
     "ename": "ValueError",
     "evalue": "Failed to find data adapter that can handle input: (<class 'dict'> containing {\"<class 'str'>\"} keys and {\"<class 'pandas.core.series.Series'>\", \"<class 'float'>\"} values), <class 'numpy.ndarray'>",
     "output_type": "error",
     "traceback": [
      "\u001b[1;31m---------------------------------------------------------------------------\u001b[0m",
      "\u001b[1;31mValueError\u001b[0m                                Traceback (most recent call last)",
      "Cell \u001b[1;32mIn[103], line 73\u001b[0m\n\u001b[0;32m     71\u001b[0m mock_model \u001b[38;5;241m=\u001b[39m keras\u001b[38;5;241m.\u001b[39mmodels\u001b[38;5;241m.\u001b[39mclone_model(model)\n\u001b[0;32m     72\u001b[0m mock_model\u001b[38;5;241m.\u001b[39mcompile(optimizer\u001b[38;5;241m=\u001b[39m\u001b[38;5;124m'\u001b[39m\u001b[38;5;124madam\u001b[39m\u001b[38;5;124m'\u001b[39m, loss\u001b[38;5;241m=\u001b[39m\u001b[38;5;124m'\u001b[39m\u001b[38;5;124mmean_squared_error\u001b[39m\u001b[38;5;124m'\u001b[39m, metrics\u001b[38;5;241m=\u001b[39m[\u001b[38;5;124m'\u001b[39m\u001b[38;5;124mmae\u001b[39m\u001b[38;5;124m'\u001b[39m, \u001b[38;5;124m'\u001b[39m\u001b[38;5;124maccuracy\u001b[39m\u001b[38;5;124m'\u001b[39m])\n\u001b[1;32m---> 73\u001b[0m \u001b[43mdeletion_test\u001b[49m\u001b[43m(\u001b[49m\u001b[43mmock_model\u001b[49m\u001b[43m,\u001b[49m\u001b[43m \u001b[49m\u001b[43mtrain_features\u001b[49m\u001b[43m,\u001b[49m\u001b[43m \u001b[49m\u001b[43mtrain_labels\u001b[49m\u001b[43m,\u001b[49m\u001b[43m \u001b[49m\u001b[43mtest_features\u001b[49m\u001b[43m,\u001b[49m\u001b[43m \u001b[49m\u001b[43mtest_labels\u001b[49m\u001b[43m,\u001b[49m\u001b[43m \u001b[49m\u001b[43mval_features\u001b[49m\u001b[43m,\u001b[49m\u001b[43m \u001b[49m\u001b[43mval_labels\u001b[49m\u001b[43m,\u001b[49m\u001b[43m \u001b[49m\u001b[38;5;124;43m'\u001b[39;49m\u001b[38;5;124;43mpast_ppna\u001b[39;49m\u001b[38;5;124;43m'\u001b[39;49m\u001b[43m)\u001b[49m\n",
      "Cell \u001b[1;32mIn[103], line 58\u001b[0m, in \u001b[0;36mdeletion_test\u001b[1;34m(mock_model, train_features, train_labels, test_features, test_labels, val_features, val_labels, deleted_column, epochs, batch_size)\u001b[0m\n\u001b[0;32m     55\u001b[0m deleted_features_test[deleted_column] \u001b[38;5;241m=\u001b[39m np\u001b[38;5;241m.\u001b[39mnan\n\u001b[0;32m     57\u001b[0m \u001b[38;5;66;03m# Entrenar el modelo con la columna eliminada\u001b[39;00m\n\u001b[1;32m---> 58\u001b[0m history \u001b[38;5;241m=\u001b[39m \u001b[43mmock_model\u001b[49m\u001b[38;5;241;43m.\u001b[39;49m\u001b[43mfit\u001b[49m\u001b[43m(\u001b[49m\n\u001b[0;32m     59\u001b[0m \u001b[43m    \u001b[49m\u001b[43mdeleted_features_train\u001b[49m\u001b[43m,\u001b[49m\u001b[43m \u001b[49m\u001b[43mtrain_labels\u001b[49m\u001b[38;5;241;43m.\u001b[39;49m\u001b[43mvalues\u001b[49m\u001b[43m,\u001b[49m\n\u001b[0;32m     60\u001b[0m \u001b[43m    \u001b[49m\u001b[43mepochs\u001b[49m\u001b[38;5;241;43m=\u001b[39;49m\u001b[43mepochs\u001b[49m\u001b[43m,\u001b[49m\n\u001b[0;32m     61\u001b[0m \u001b[43m    \u001b[49m\u001b[43mbatch_size\u001b[49m\u001b[38;5;241;43m=\u001b[39;49m\u001b[43mbatch_size\u001b[49m\u001b[43m,\u001b[49m\n\u001b[0;32m     62\u001b[0m \u001b[43m    \u001b[49m\u001b[43mvalidation_data\u001b[49m\u001b[38;5;241;43m=\u001b[39;49m\u001b[43m(\u001b[49m\u001b[43mval_features\u001b[49m\u001b[43m,\u001b[49m\u001b[43m \u001b[49m\u001b[43mval_labels\u001b[49m\u001b[38;5;241;43m.\u001b[39;49m\u001b[43mvalues\u001b[49m\u001b[43m)\u001b[49m\u001b[43m \u001b[49m\n\u001b[0;32m     63\u001b[0m \u001b[43m\u001b[49m\u001b[43m)\u001b[49m\n\u001b[0;32m     65\u001b[0m \u001b[38;5;66;03m# Evaluar el modelo con la columna restaurada\u001b[39;00m\n\u001b[0;32m     66\u001b[0m fake_loss \u001b[38;5;241m=\u001b[39m mock_model\u001b[38;5;241m.\u001b[39mevaluate(deleted_features_test, test_labels)\n",
      "File \u001b[1;32mc:\\Users\\Tomas Bartol\\AppData\\Local\\Programs\\Python\\Python311\\Lib\\site-packages\\keras\\src\\utils\\traceback_utils.py:70\u001b[0m, in \u001b[0;36mfilter_traceback.<locals>.error_handler\u001b[1;34m(*args, **kwargs)\u001b[0m\n\u001b[0;32m     67\u001b[0m     filtered_tb \u001b[38;5;241m=\u001b[39m _process_traceback_frames(e\u001b[38;5;241m.\u001b[39m__traceback__)\n\u001b[0;32m     68\u001b[0m     \u001b[38;5;66;03m# To get the full stack trace, call:\u001b[39;00m\n\u001b[0;32m     69\u001b[0m     \u001b[38;5;66;03m# `tf.debugging.disable_traceback_filtering()`\u001b[39;00m\n\u001b[1;32m---> 70\u001b[0m     \u001b[38;5;28;01mraise\u001b[39;00m e\u001b[38;5;241m.\u001b[39mwith_traceback(filtered_tb) \u001b[38;5;28;01mfrom\u001b[39;00m \u001b[38;5;28;01mNone\u001b[39;00m\n\u001b[0;32m     71\u001b[0m \u001b[38;5;28;01mfinally\u001b[39;00m:\n\u001b[0;32m     72\u001b[0m     \u001b[38;5;28;01mdel\u001b[39;00m filtered_tb\n",
      "File \u001b[1;32mc:\\Users\\Tomas Bartol\\AppData\\Local\\Programs\\Python\\Python311\\Lib\\site-packages\\keras\\src\\engine\\data_adapter.py:1105\u001b[0m, in \u001b[0;36mselect_data_adapter\u001b[1;34m(x, y)\u001b[0m\n\u001b[0;32m   1102\u001b[0m adapter_cls \u001b[38;5;241m=\u001b[39m [\u001b[38;5;28mcls\u001b[39m \u001b[38;5;28;01mfor\u001b[39;00m \u001b[38;5;28mcls\u001b[39m \u001b[38;5;129;01min\u001b[39;00m ALL_ADAPTER_CLS \u001b[38;5;28;01mif\u001b[39;00m \u001b[38;5;28mcls\u001b[39m\u001b[38;5;241m.\u001b[39mcan_handle(x, y)]\n\u001b[0;32m   1103\u001b[0m \u001b[38;5;28;01mif\u001b[39;00m \u001b[38;5;129;01mnot\u001b[39;00m adapter_cls:\n\u001b[0;32m   1104\u001b[0m     \u001b[38;5;66;03m# TODO(scottzhu): This should be a less implementation-specific error.\u001b[39;00m\n\u001b[1;32m-> 1105\u001b[0m     \u001b[38;5;28;01mraise\u001b[39;00m \u001b[38;5;167;01mValueError\u001b[39;00m(\n\u001b[0;32m   1106\u001b[0m         \u001b[38;5;124m\"\u001b[39m\u001b[38;5;124mFailed to find data adapter that can handle input: \u001b[39m\u001b[38;5;132;01m{}\u001b[39;00m\u001b[38;5;124m, \u001b[39m\u001b[38;5;132;01m{}\u001b[39;00m\u001b[38;5;124m\"\u001b[39m\u001b[38;5;241m.\u001b[39mformat(\n\u001b[0;32m   1107\u001b[0m             _type_name(x), _type_name(y)\n\u001b[0;32m   1108\u001b[0m         )\n\u001b[0;32m   1109\u001b[0m     )\n\u001b[0;32m   1110\u001b[0m \u001b[38;5;28;01melif\u001b[39;00m \u001b[38;5;28mlen\u001b[39m(adapter_cls) \u001b[38;5;241m>\u001b[39m \u001b[38;5;241m1\u001b[39m:\n\u001b[0;32m   1111\u001b[0m     \u001b[38;5;28;01mraise\u001b[39;00m \u001b[38;5;167;01mRuntimeError\u001b[39;00m(\n\u001b[0;32m   1112\u001b[0m         \u001b[38;5;124m\"\u001b[39m\u001b[38;5;124mData adapters should be mutually exclusive for \u001b[39m\u001b[38;5;124m\"\u001b[39m\n\u001b[0;32m   1113\u001b[0m         \u001b[38;5;124m\"\u001b[39m\u001b[38;5;124mhandling inputs. Found multiple adapters \u001b[39m\u001b[38;5;132;01m{}\u001b[39;00m\u001b[38;5;124m to handle \u001b[39m\u001b[38;5;124m\"\u001b[39m\n\u001b[0;32m   1114\u001b[0m         \u001b[38;5;124m\"\u001b[39m\u001b[38;5;124minput: \u001b[39m\u001b[38;5;132;01m{}\u001b[39;00m\u001b[38;5;124m, \u001b[39m\u001b[38;5;132;01m{}\u001b[39;00m\u001b[38;5;124m\"\u001b[39m\u001b[38;5;241m.\u001b[39mformat(adapter_cls, _type_name(x), _type_name(y))\n\u001b[0;32m   1115\u001b[0m     )\n",
      "\u001b[1;31mValueError\u001b[0m: Failed to find data adapter that can handle input: (<class 'dict'> containing {\"<class 'str'>\"} keys and {\"<class 'pandas.core.series.Series'>\", \"<class 'float'>\"} values), <class 'numpy.ndarray'>"
     ]
    }
   ],
   "source": [
    "### Defines all the functions used in the fake data testing ###\n",
    "\n",
    "#Function to test model with added noise to a set column. Said column and noise factor are to be determined by user\n",
    "def noisy_test(model, test_features, test_labels, noise_factor=0.1, column_to_modify='past_ppna'):\n",
    "    \n",
    "    # Generate fake data with noise added to a specific column\n",
    "    noisy_test_features = test_features.copy()\n",
    "    noisy_test_features[column_to_modify] = noisy_test_features[column_to_modify] + noise_factor * np.random.randn(len(noisy_test_features[column_to_modify]))\n",
    "\n",
    "    # Testing with noisy\n",
    "    print(\"Entrenamiento del modelo con ruido en\", column_to_modify)\n",
    "    fake_loss = model.evaluate(noisy_test_features, test_labels)\n",
    "    return fake_loss\n",
    "\n",
    "#Function to test model with all random values\n",
    "def all_rand_test(model, test_features, test_labels):\n",
    "    \n",
    "    # Generate fake data for all features\n",
    "    random_test_features = [\n",
    "        np.random.rand(len(test_features['date'])),  # 'date'\n",
    "        np.random.rand(len(test_features['latitude'])),  # 'latitude'\n",
    "        np.random.rand(len(test_features['longitude'])),  # 'longitude'\n",
    "        np.random.rand(len(test_features['past_ppna']), SEQUENCE_LEN, 1),  # 'past_ppna'\n",
    "        np.random.rand(len(test_features['precipitation'])),  # 'precipitation'\n",
    "        np.random.rand(len(test_features['temperature']))  # 'temperature'\n",
    "    ]\n",
    "\n",
    "    print(\"Entrenamiento del modelo con datos aleatorios\")\n",
    "    fake_loss = model.evaluate(random_test_features, test_labels)\n",
    "    return fake_loss\n",
    "\n",
    "\n",
    "def permutation_test(model, test_features, test_labels, column_to_permute):\n",
    "\n",
    "    # Generate fake data with permuted values in a specific column\n",
    "    permuted_test_features = test_features.copy()\n",
    "    permuted_test_features[column_to_permute] = np.random.permutation(permuted_test_features[column_to_permute])\n",
    "\n",
    "    # Convert to Pandas Series (assuming column_to_permute is a single column)\n",
    "    permuted_test_features[column_to_permute] = pd.Series(permuted_test_features[column_to_permute])\n",
    "\n",
    "    # Testing with permuted data\n",
    "    print(\"Entrenamiento del modelo con permutación en\", column_to_permute)\n",
    "    fake_loss = model.evaluate(permuted_test_features, test_labels)\n",
    "    \n",
    "    return fake_loss\n",
    "\n",
    "def deletion_test(mock_model, train_features, train_labels, test_features, test_labels, val_features, val_labels, deleted_column, epochs=1, batch_size=64):\n",
    "    # Copia de seguridad de la columna a eliminar\n",
    "    deleted_features_train = train_features.copy()\n",
    "    deleted_features_test = test_features.copy()\n",
    "\n",
    "    # Eliminar temporalmente la columna\n",
    "    deleted_features_train[deleted_column] = np.nan\n",
    "    deleted_features_test[deleted_column] = np.nan\n",
    "\n",
    "    # Entrenar el modelo con la columna eliminada\n",
    "    history = mock_model.fit(\n",
    "        deleted_features_train, train_labels.values,\n",
    "        epochs=epochs,\n",
    "        batch_size=batch_size,\n",
    "        validation_data=(val_features, val_labels.values) \n",
    "    )\n",
    "\n",
    "    # Evaluar el modelo con la columna restaurada\n",
    "    fake_loss = mock_model.evaluate(deleted_features_test, test_labels)\n",
    "    print(f\"Pérdida en el conjunto de prueba con {deleted_column} restaurada:\", fake_loss)\n",
    "\n",
    "    return fake_loss\n",
    "\n",
    "mock_model = keras.models.clone_model(model)\n",
    "mock_model.compile(optimizer='adam', loss='mean_squared_error', metrics=['mae', 'accuracy'])\n",
    "deletion_test(mock_model, train_features, train_labels, test_features, test_labels, val_features, val_labels, 'past_ppna')\n",
    "\n"
   ]
  },
  {
   "cell_type": "code",
   "execution_count": 90,
   "metadata": {},
   "outputs": [
    {
     "name": "stdout",
     "output_type": "stream",
     "text": [
      "Entrenamiento del modelo con ruido en past_ppna\n"
     ]
    },
    {
     "name": "stdout",
     "output_type": "stream",
     "text": [
      "5822/5822 [==============================] - 24s 4ms/step - loss: 0.6777 - mae: 0.6918 - accuracy: 0.0000e+00\n",
      "Entrenamiento del modelo con datos aleatorios\n",
      "5822/5822 [==============================] - 60s 10ms/step - loss: 4.0833 - mae: 1.7678 - accuracy: 0.0000e+00\n",
      "Entrenamiento del modelo con permutación en past_ppna\n",
      "5822/5822 [==============================] - 33s 6ms/step - loss: 1.0981 - mae: 0.8912 - accuracy: 0.0000e+00\n",
      "Pérdida con datos permutados [loss, MAE, accuracy]: [1.0981239080429077, 0.8911554217338562, 0.0]\n"
     ]
    }
   ],
   "source": [
    "### Function to test if the model works with fake data so as to test if there is data leakage in training ### \n",
    "def test_with_fake_data(model, test_features, test_labels, column_to_permute, noise_factor=0.1, column_to_modify = 'past_ppna'):\n",
    "    # Testing with actual data\n",
    "    print(\"Entrenamiento del modelo original\")\n",
    "    original_loss = model.evaluate(test_features, test_labels)\n",
    "\n",
    "\n",
    "\n",
    "    # Ejemplo 3: Eliminar una característica (por ejemplo, 'longitude')\n",
    "    #fake_test_features.pop('longitude')\n",
    "\n",
    "    \n",
    "   \n",
    "    # Calls every function to test the model in various scenarios\n",
    "    noisy_fake_loss = noisy_test(model, test_features, test_labels, noise_factor, column_to_modify)\n",
    "    random_fake_loss = all_rand_test(model, test_features, test_labels)\n",
    "    permuted_fake_loss = permutation_test(model, test_features, test_labels, column_to_permute)\n",
    "    print(\"Pérdida con datos originales [loss, MAE, accuracy]:\", original_loss)    \n",
    "    print(\"Pérdida con datos con ruido [loss, MAE, accuracy]:\", noisy_fake_loss)\n",
    "    print(\"Pérdida con datos aleatorios  [loss, MAE, accuracy]:\", random_fake_loss)\n",
    "    print(\"Pérdida con datos permutados [loss, MAE, accuracy]:\", permuted_fake_loss)\n",
    "\n",
    "    loss_vector = [noisy_fake_loss, random_fake_loss, permuted_fake_loss]\n",
    "    return loss_vector\n",
    "\n",
    "\n",
    "fake_loss = []\n",
    "fake_loss = test_with_fake_data(model, test_features, test_labels, column_to_permute = 'past_ppna', column_to_modify='past_ppna', noise_factor=0.1)"
   ]
  },
  {
   "cell_type": "code",
   "execution_count": 91,
   "metadata": {},
   "outputs": [
    {
     "name": "stdout",
     "output_type": "stream",
     "text": [
      "[[0.6776644587516785, 0.6917699575424194, 0.0], [4.0833024978637695, 1.7677500247955322, 0.0], [1.0981239080429077, 0.8911554217338562, 0.0]]\n"
     ]
    }
   ],
   "source": [
    "print(fake_loss)"
   ]
  },
  {
   "cell_type": "markdown",
   "metadata": {},
   "source": [
    "<h2>K FOLD INFO</h2>\n",
    "\n",
    "https://www.kaggle.com/code/satishgunjal/tutorial-k-fold-cross-validation"
   ]
  },
  {
   "cell_type": "code",
   "execution_count": null,
   "metadata": {},
   "outputs": [],
   "source": [
    "### Function to make a cross validation (divides the df in subgroups and test against eachother) ###\n",
    "\n",
    "# DOESNT WORK #\n",
    "\n",
    "def cross_validation(model, train_features, train_labels, num_splits=5, epochs=10, batch_size=32):\n",
    "    kf = KFold(n_splits=num_splits)\n",
    "\n",
    "    mse_scores = []\n",
    "    for train_index, val_index in kf.split(train_features):\n",
    "        x_train = {\n",
    "            'date': train_features['date'][train_index],\n",
    "            'latitude': train_features['latitude'][train_index],\n",
    "            'longitude': train_features['longitude'][train_index],\n",
    "            'ppna': train_features['ppna'][train_index],\n",
    "            'precipitation': train_features['precipitation'][train_index],\n",
    "            'temperature': train_features['temperature'][train_index]\n",
    "        }\n",
    "        y_train = train_labels[train_index]\n",
    "\n",
    "        x_val = {\n",
    "            'date': train_features['date'][val_index],\n",
    "            'latitude': train_features['latitude'][val_index],\n",
    "            'longitude': train_features['longitude'][val_index],\n",
    "            'ppna': train_features['ppna'][val_index],\n",
    "            'precipitation': train_features['precipitation'][val_index],\n",
    "            'temperature': train_features['temperature'][val_index]\n",
    "        }\n",
    "        y_val = train_labels[val_index]\n",
    "\n",
    "        model.compile(optimizer='adam', loss='mean_squared_error', metrics=['mae'])\n",
    "        model.fit(x_train, y_train, epochs=epochs, batch_size=batch_size, verbose=0)\n",
    "\n",
    "        val_predictions = model.predict(x_val)\n",
    "        mse = np.mean(np.square(val_predictions - y_val))\n",
    "        mse_scores.append(mse)\n",
    "\n",
    "    mean_mse = np.mean(mse_scores)\n",
    "    print(f\"Mean MSE across {num_splits} folds: {mean_mse}\")\n",
    "    return mean_mse\n",
    "\n",
    "#Transforms data into numpy arrays to be able to use kfold\n",
    "train_features_np = np.array(list(train_features.values()))\n",
    "train_labels_np = train_labels.to_numpy()\n",
    "\n",
    "mean_mse = cross_validation(model, train_features_np, train_labels_np, num_splits=5, epochs=10, batch_size=32)"
   ]
  },
  {
   "cell_type": "code",
   "execution_count": null,
   "metadata": {},
   "outputs": [],
   "source": [
    "class WindowGenerator():\n",
    "    def __init__(self, input_width, label_width, shift,\n",
    "                 train_df=train_df, val_df=val_df, test_df=test_df,\n",
    "                 label_columns=None):\n",
    "        self.train_df = train_df\n",
    "        self.val_df = val_df\n",
    "        self.test_df = test_df\n",
    "\n",
    "        self.label_columns = label_columns\n",
    "        if label_columns is not None:\n",
    "            self.label_columns_indices = {name: i for i, name in enumerate(label_columns)}\n",
    "        self.column_indices = {name: i for i, name in enumerate(train_df.columns)}\n",
    "\n",
    "        self.input_width = input_width\n",
    "        self.label_width = label_width\n",
    "        self.shift = shift\n",
    "\n",
    "        self.total_window_size = input_width + shift\n",
    "\n",
    "        self.input_slice = slice(0, input_width)\n",
    "        self.input_indices = np.arange(self.total_window_size)[self.input_slice]\n",
    "\n",
    "        self.label_start = self.total_window_size - self.label_width\n",
    "        self.labels_slice = slice(self.label_start, None)\n",
    "        self.label_indices = np.arange(self.total_window_size)[self.labels_slice]\n",
    "\n",
    "    def __repr__(self):\n",
    "        return '\\n'.join([\n",
    "            f'Total window size: {self.total_window_size}',\n",
    "            f'Input indices: {self.input_indices}',\n",
    "            f'Label indices: {self.label_indices}',\n",
    "            f'Label column name(s): {self.label_columns}'])\n",
    "\n",
    "def make_dataset(data, window_size, shift, stride=1):\n",
    "    windows = []\n",
    "    labels = []\n",
    "\n",
    "    start_index = 0\n",
    "    while (start_index + window_size) <= len(data):\n",
    "        window = data[start_index:start_index + window_size]\n",
    "        windows.append(window)\n",
    "\n",
    "        label_index = start_index + window_size + shift - 1\n",
    "        labels.append(data[label_index])\n",
    "\n",
    "        start_index += stride\n",
    "\n",
    "    return np.array(windows), np.array(labels)\n",
    "\n",
    "# Define parámetros para las ventanas\n",
    "input_width = 24  # Cantidad de pasos temporales de entrada\n",
    "label_width = 1  # Cantidad de pasos temporales a predecir\n",
    "shift = 1  # Paso de tiempo entre muestras\n",
    "\n",
    "# Crear instancias de WindowGenerator\n",
    "window_generator = WindowGenerator(\n",
    "    input_width=input_width, label_width=label_width, shift=shift,\n",
    "    train_df=train_normalized.iloc[:len(train_normalized)],\n",
    "    val_df=val_normalized.iloc[:len(val_normalized)],\n",
    "    test_df=test_normalized.iloc[:len(test_normalized)],\n",
    "    label_columns=['ppna']\n",
    ")\n",
    "\n",
    "\n",
    "# Obtener datos para entrenamiento, validación y prueba\n",
    "train_windows, train_labels = make_dataset(window_generator.train_df['ppna'], window_generator.total_window_size, shift)\n",
    "val_windows, val_labels = make_dataset(window_generator.val_df['ppna'], window_generator.total_window_size, shift)\n",
    "test_windows, test_labels = make_dataset(window_generator.test_df['ppna'], window_generator.total_window_size, shift)\n",
    "\n",
    "# Verificar las formas de los conjuntos de datos\n",
    "print(f\"Train data shape: {train_windows.shape}\")\n",
    "print(f\"Validation data shape: {val_windows.shape}\")\n",
    "print(f\"Test data shape: {test_windows.shape}\")\n"
   ]
  }
 ],
 "metadata": {
  "kernelspec": {
   "display_name": "Python 3 (ipykernel)",
   "language": "python",
   "name": "python3"
  },
  "language_info": {
   "codemirror_mode": {
    "name": "ipython",
    "version": 3
   },
   "file_extension": ".py",
   "mimetype": "text/x-python",
   "name": "python",
   "nbconvert_exporter": "python",
   "pygments_lexer": "ipython3",
   "version": "3.11.6"
  }
 },
 "nbformat": 4,
 "nbformat_minor": 2
}
