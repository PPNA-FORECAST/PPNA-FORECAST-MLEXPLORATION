{
 "cells": [
  {
   "cell_type": "markdown",
   "metadata": {},
   "source": [
    "---\n",
    "\n",
    "<center>\n",
    "<h1>Pronóstico de la productividad forrajera y balance</h1>\n",
    "<h1>hídrico en la región de los pastizales del Río de la Plata</h1>\n",
    "</center>\n",
    "\n",
    "---\n",
    "\n",
    "\n",
    "<br>\n",
    "<br>\n",
    "<ul>\n",
    "    <li>Bartol, Tomás Augusto</li>\n",
    "    <li>Peiretti, Pablo </li>\n",
    "    <li>Sánchez, Milagros Verónica </li>\n",
    "</li>\n",
    "</ul>\n",
    "\n",
    "\n",
    "<br>\n",
    "<h2>Abstract</h2>\n",
    "\n",
    "This notebook was created with the purpose of performing data normalization on the information provided by the photodetection department of the Buenos Aires University."
   ]
  },
  {
   "cell_type": "code",
   "execution_count": 1,
   "metadata": {},
   "outputs": [],
   "source": [
    "### Load the imports ### \n",
    "import numpy as np\n",
    "import pandas as pd\n",
    "import tensorflow as tf\n",
    "from tensorflow.keras import layers, models\n",
    "from matplotlib import pyplot as plt\n",
    "from datetime import datetime\n",
    "from sklearn.model_selection import train_test_split\n",
    "\n",
    "### The following lines adjust the granularity of reporting. ### \n",
    "pd.options.display.max_rows = 10\n",
    "pd.options.display.float_format = \"{:.1f}\".format"
   ]
  },
  {
   "cell_type": "code",
   "execution_count": 2,
   "metadata": {},
   "outputs": [],
   "source": [
    "### Define program constants ### \n",
    "DATABASE_PATH = \"Database\\database.csv\"\n",
    "SEQUENCE_LEN = 26 #26 points equals 26*15 days equals a year aprox."
   ]
  },
  {
   "cell_type": "code",
   "execution_count": 3,
   "metadata": {},
   "outputs": [],
   "source": [
    "# Load the dataset\n",
    "aux_df = pd.read_csv(DATABASE_PATH)\n",
    "scale_factor = 1000.0\n",
    "# Shuffle the examples\n",
    "#train_df = train_df.reindex(np.random.permutation(train_df.index))\n",
    "#print(aux_df[['date']])"
   ]
  },
  {
   "cell_type": "code",
   "execution_count": 4,
   "metadata": {},
   "outputs": [],
   "source": [
    "def convert_to_timestamp(date_str):\n",
    "\n",
    "    if(isinstance(aux_df['date'][0], np.int64)):\n",
    "      return False #NOT ROBUST, FAILS IF RUN TWICE ON THE SAME DF\n",
    "\n",
    "    date_obj = datetime.strptime(date_str, \"%m/%d/%Y\")\n",
    "    return int(date_obj.timestamp())# * 1000) Optional multiplication by 1000 to turn into miliseconds.\n",
    "\n",
    "\n",
    "aux_df['date'] = aux_df['date'].apply(convert_to_timestamp)"
   ]
  },
  {
   "cell_type": "code",
   "execution_count": 5,
   "metadata": {},
   "outputs": [],
   "source": [
    "#Check if dates are correctly turned into a timsetamp format\n",
    "date = datetime.fromtimestamp(aux_df['date'][0])\n",
    "year = date.year\n",
    "month = date.month\n",
    "day = date.day"
   ]
  },
  {
   "cell_type": "code",
   "execution_count": 6,
   "metadata": {},
   "outputs": [],
   "source": [
    "#divide the dataframe into three sections (train, test, validation) with roughly a 70-20-10 distribution\n",
    "#The samples are divided secuentially to improve the RNN performance\n",
    "\n",
    "train_df, test_df = train_test_split(aux_df, test_size=0.2, shuffle=False)  # 80% to training df and 20% to testing df\n",
    "train_df, val_df = train_test_split(train_df, test_size=0.1, shuffle=False)  # Of the 80%, 90% goes to training and 10% to validation\n",
    "\n",
    "# To make each df legth divisible by the batches in the model building section\n",
    "train_df = train_df[:-(len(train_df) % SEQUENCE_LEN)]\n",
    "val_df = val_df[:-(len(val_df) % SEQUENCE_LEN)]\n",
    "test_df = test_df[:-(len(test_df) % SEQUENCE_LEN)]\n"
   ]
  },
  {
   "cell_type": "markdown",
   "metadata": {},
   "source": [
    "DATA NORMALIZATION INFO\n",
    "\n",
    "https://medium.com/@spinjosovsky/normalize-data-before-or-after-split-of-training-and-testing-data-7b8005f81e26\n",
    "https://datascience.stackexchange.com/questions/27615/should-we-apply-normalization-to-test-data-as-well"
   ]
  },
  {
   "cell_type": "code",
   "execution_count": 7,
   "metadata": {},
   "outputs": [],
   "source": [
    "# Normalization of every dataframe. The chosen normalization uses mean and standard deviation\n",
    "# Every Dataframe must be normalized by the same values, hence the train df mean and deviation are saved\n",
    "train_mean = train_df.mean()\n",
    "train_std = train_df.std()\n",
    "\n",
    "\n",
    "def normalize_data(data, mean, std):\n",
    "    return (data - mean) / std\n",
    "\n",
    "#The id field shouldn't be normalized yet is not used in the model\n",
    "train_normalized = normalize_data(train_df, train_mean, train_std)\n",
    "val_normalized = normalize_data(val_df, train_mean, train_std)\n",
    "test_normalized = normalize_data(test_df, train_mean, train_std)"
   ]
  },
  {
   "cell_type": "code",
   "execution_count": 8,
   "metadata": {},
   "outputs": [],
   "source": [
    "# Keras Input tensors of float values.\n",
    "#The prediction is going to use one value for lat, long, precipitation, temperature (the ones on the date desired to estimate)\n",
    "#and the SEQUENCE_LEN previous values of ppna\n",
    "inputs = {\n",
    "    'date':\n",
    "        tf.keras.layers.Input(shape=(1,), dtype=tf.float32,\n",
    "                              name='date'),\n",
    "    'latitude':\n",
    "        tf.keras.layers.Input(shape=(1,), dtype=tf.float32,\n",
    "                              name='latitude'),\n",
    "    'longitude':\n",
    "        tf.keras.layers.Input(shape=(1,), dtype=tf.float32,\n",
    "                              name='longitude'),\n",
    "    'ppna':\n",
    "        tf.keras.layers.Input(shape=(SEQUENCE_LEN, 1), dtype=tf.float32,\n",
    "                             name='ppna'),\n",
    "    'precipitation':\n",
    "        tf.keras.layers.Input(shape=(1,), dtype=tf.float32,\n",
    "                              name='precipitation'),\n",
    "    'temperature':\n",
    "        tf.keras.layers.Input(shape=(1,), dtype=tf.float32,\n",
    "                              name='temperature')\n",
    "}"
   ]
  },
  {
   "cell_type": "code",
   "execution_count": 9,
   "metadata": {},
   "outputs": [
    {
     "name": "stdout",
     "output_type": "stream",
     "text": [
      "Model: \"model\"\n",
      "__________________________________________________________________________________________________\n",
      " Layer (type)                Output Shape                 Param #   Connected to                  \n",
      "==================================================================================================\n",
      " ppna (InputLayer)           [(None, 26, 1)]              0         []                            \n",
      "                                                                                                  \n",
      " date (InputLayer)           [(None, 1)]                  0         []                            \n",
      "                                                                                                  \n",
      " latitude (InputLayer)       [(None, 1)]                  0         []                            \n",
      "                                                                                                  \n",
      " longitude (InputLayer)      [(None, 1)]                  0         []                            \n",
      "                                                                                                  \n",
      " precipitation (InputLayer)  [(None, 1)]                  0         []                            \n",
      "                                                                                                  \n",
      " temperature (InputLayer)    [(None, 1)]                  0         []                            \n",
      "                                                                                                  \n",
      " lstm (LSTM)                 (None, 64)                   16896     ['ppna[0][0]']                \n",
      "                                                                                                  \n",
      " concatenate (Concatenate)   (None, 69)                   0         ['date[0][0]',                \n",
      "                                                                     'latitude[0][0]',            \n",
      "                                                                     'longitude[0][0]',           \n",
      "                                                                     'precipitation[0][0]',       \n",
      "                                                                     'temperature[0][0]',         \n",
      "                                                                     'lstm[0][0]']                \n",
      "                                                                                                  \n",
      " ppna_output (Dense)         (None, 1)                    70        ['concatenate[0][0]']         \n",
      "                                                                                                  \n",
      "==================================================================================================\n",
      "Total params: 16966 (66.27 KB)\n",
      "Trainable params: 16966 (66.27 KB)\n",
      "Non-trainable params: 0 (0.00 Byte)\n",
      "__________________________________________________________________________________________________\n"
     ]
    }
   ],
   "source": [
    "# Define the model for the NN\n",
    "# LSTM layer with 64 nodes processing the ppna -- the only parameter that takes info from the past\n",
    "lstm_layer = tf.keras.layers.LSTM(64)(inputs['ppna'])\n",
    "\n",
    "# Concatenate the inputs and LSTM output to provide the model tools to learn the patterns\n",
    "concatenated_features = tf.keras.layers.concatenate([inputs['date'], inputs['latitude'], inputs['longitude'], inputs['precipitation'], inputs['temperature'], lstm_layer])\n",
    "\n",
    "# Output Layer, with just one output (Estimated PPNA) that receives the concatenated features\n",
    "output = tf.keras.layers.Dense(1, name='ppna_output')(concatenated_features)\n",
    "\n",
    "# Create the model\n",
    "model = tf.keras.Model(inputs=inputs, outputs=output)\n",
    "\n",
    "# Compile the model\n",
    "model.compile(optimizer='adam', loss='mean_squared_error', metrics=['mae', 'accuracy'])\n",
    "model.summary()"
   ]
  },
  {
   "cell_type": "code",
   "execution_count": 10,
   "metadata": {},
   "outputs": [
    {
     "name": "stdout",
     "output_type": "stream",
     "text": [
      "Epoch 1/5\n",
      "7763/7763 [==============================] - 53s 7ms/step - loss: 0.0072 - mae: 0.0193 - accuracy: 0.0000e+00 - val_loss: 2.1059e-06 - val_mae: 0.0010 - val_accuracy: 0.0000e+00\n",
      "Epoch 2/5\n",
      "7763/7763 [==============================] - 48s 6ms/step - loss: 2.8434e-06 - mae: 0.0010 - accuracy: 0.0000e+00 - val_loss: 5.2443e-06 - val_mae: 0.0019 - val_accuracy: 0.0000e+00\n",
      "Epoch 3/5\n",
      "7763/7763 [==============================] - 38s 5ms/step - loss: 2.1295e-06 - mae: 8.5325e-04 - accuracy: 0.0000e+00 - val_loss: 7.3837e-07 - val_mae: 6.3052e-04 - val_accuracy: 0.0000e+00\n",
      "Epoch 4/5\n",
      "7763/7763 [==============================] - 33s 4ms/step - loss: 1.7705e-06 - mae: 7.5872e-04 - accuracy: 0.0000e+00 - val_loss: 5.6348e-07 - val_mae: 5.5914e-04 - val_accuracy: 0.0000e+00\n",
      "Epoch 5/5\n",
      "7763/7763 [==============================] - 35s 5ms/step - loss: 1.4534e-06 - mae: 6.9597e-04 - accuracy: 0.0000e+00 - val_loss: 1.9914e-06 - val_mae: 0.0010 - val_accuracy: 0.0000e+00\n",
      "4312/4312 [==============================] - 12s 3ms/step - loss: 2.6778e-06 - mae: 0.0012 - accuracy: 0.0000e+00\n",
      "Pérdida en el conjunto de prueba: [2.6778436676977435e-06, 0.0011911154724657536, 0.0]\n"
     ]
    }
   ],
   "source": [
    "#Model training\n",
    "\n",
    "#Define the training parameters\n",
    "epochs = 5  \n",
    "batch_size = 64 \n",
    "\n",
    "#Define the features and labels for each section of the process.\n",
    "#The label is the ppna (what we want to predict)\n",
    "#The features are the values used to predict said label (previous ppna, precipitations, temperature, lat, long, date)\n",
    "train_labels = train_normalized['ppna'] \n",
    "train_features = {\n",
    "        'date': train_normalized['date'],\n",
    "        'latitude': train_normalized['latitude'],\n",
    "        'longitude': train_normalized['longitude'],\n",
    "        'ppna': train_normalized['ppna'],\n",
    "        'precipitation': train_normalized['ppt'],\n",
    "        'temperature': train_normalized['temp']\n",
    "}\n",
    "\n",
    "val_labels = val_normalized['ppna'] \n",
    "val_features = {\n",
    "         'date': val_normalized['date'],\n",
    "         'latitude': val_normalized['latitude'],\n",
    "         'longitude': val_normalized['longitude'],\n",
    "         'ppna': val_normalized['ppna'],\n",
    "         'precipitation': val_normalized['ppt'],\n",
    "         'temperature': val_normalized['temp']\n",
    "}\n",
    "\n",
    "test_labels = test_normalized['ppna']\n",
    "test_features = {\n",
    "    'date': test_normalized['date'],\n",
    "    'latitude': test_normalized['latitude'],\n",
    "    'longitude': test_normalized['longitude'],\n",
    "    'ppna': test_normalized['ppna'],\n",
    "    'precipitation': test_normalized['ppt'],\n",
    "    'temperature': test_normalized['temp']\n",
    "}\n",
    "\n",
    "#Train the model with the previously defined parameters and data\n",
    "history = model.fit(\n",
    "    train_features, \n",
    "    train_labels.values, \n",
    "    epochs=epochs,\n",
    "    batch_size=batch_size,\n",
    "    validation_data=(val_features, val_labels.values)  \n",
    ")\n",
    "\n",
    "# Evaluate the model\n",
    "test_loss = model.evaluate(test_features, test_labels)  \n",
    "\n",
    "print(\"Pérdida en el conjunto de prueba:\", test_loss)"
   ]
  },
  {
   "cell_type": "code",
   "execution_count": 11,
   "metadata": {},
   "outputs": [
    {
     "name": "stdout",
     "output_type": "stream",
     "text": [
      "4312/4312 [==============================] - 13s 3ms/step - loss: 2.6778e-06 - mae: 0.0012 - accuracy: 0.0000e+00\n"
     ]
    }
   ],
   "source": [
    "test_loss = model.evaluate(test_features, test_labels.values)  "
   ]
  },
  {
   "cell_type": "code",
   "execution_count": 12,
   "metadata": {},
   "outputs": [
    {
     "data": {
      "text/plain": [
       "0         1.2\n",
       "1         0.9\n",
       "2         1.4\n",
       "3         0.6\n",
       "4         0.3\n",
       "         ... \n",
       "496777    2.0\n",
       "496778    1.7\n",
       "496779    1.1\n",
       "496780    1.5\n",
       "496781   -0.1\n",
       "Name: ppna, Length: 496782, dtype: float64"
      ]
     },
     "execution_count": 12,
     "metadata": {},
     "output_type": "execute_result"
    }
   ],
   "source": [
    "train_labels"
   ]
  },
  {
   "cell_type": "code",
   "execution_count": 13,
   "metadata": {},
   "outputs": [
    {
     "name": "stdout",
     "output_type": "stream",
     "text": [
      "4312/4312 [==============================] - 13s 3ms/step\n"
     ]
    }
   ],
   "source": [
    "output= model.predict(test_features)"
   ]
  },
  {
   "cell_type": "code",
   "execution_count": 22,
   "metadata": {},
   "outputs": [
    {
     "data": {
      "image/png": "[encoded data removed]",
      "text/plain": [
       "<Figure size 640x480 with 1 Axes>"
      ]
     },
     "metadata": {},
     "output_type": "display_data"
    }
   ],
   "source": [
    "indice = np.arange(1, 11)\n",
    "plt.scatter(indice, output[137972:137982], label='Model Output', color='blue', marker='o')\n",
    "plt.scatter(indice, test_labels.values[137972:137982], label='Labels', color='red', marker='x')\n",
    "# Agregar etiquetas al gráfico\n",
    "plt.xlabel('Índice')\n",
    "plt.ylabel('Valores')\n",
    "plt.title('Prueba resultados')\n",
    "\n",
    "# Agregar una leyenda\n",
    "plt.legend()\n",
    "\n",
    "# Mostrar el gráfico\n",
    "plt.show()"
   ]
  },
  {
   "cell_type": "code",
   "execution_count": 15,
   "metadata": {},
   "outputs": [
    {
     "data": {
      "text/plain": [
       "array([[ 0.8260949 ],\n",
       "       [ 0.5497051 ],\n",
       "       [ 0.17622578],\n",
       "       [ 0.02948895],\n",
       "       [-0.1902569 ],\n",
       "       [-0.6320661 ],\n",
       "       [-0.5799729 ],\n",
       "       [-0.99580044],\n",
       "       [-1.1996655 ],\n",
       "       [-1.3894095 ]], dtype=float32)"
      ]
     },
     "execution_count": 15,
     "metadata": {},
     "output_type": "execute_result"
    }
   ],
   "source": [
    "output[0:10]"
   ]
  },
  {
   "cell_type": "code",
   "execution_count": 16,
   "metadata": {},
   "outputs": [
    {
     "name": "stdout",
     "output_type": "stream",
     "text": [
      "[ 0.82817595  0.55131022  0.17709505  0.03009318 -0.18994747 -0.63195058\n",
      " -0.57984389 -0.9956881  -1.19978138 -1.39002985]\n"
     ]
    }
   ],
   "source": [
    "print(test_labels.values[0:10])"
   ]
  },
  {
   "cell_type": "code",
   "execution_count": null,
   "metadata": {},
   "outputs": [],
   "source": []
  }
 ],
 "metadata": {
  "kernelspec": {
   "display_name": "Python 3 (ipykernel)",
   "language": "python",
   "name": "python3"
  },
  "language_info": {
   "codemirror_mode": {
    "name": "ipython",
    "version": 3
   },
   "file_extension": ".py",
   "mimetype": "text/x-python",
   "name": "python",
   "nbconvert_exporter": "python",
   "pygments_lexer": "ipython3",
   "version": "3.10.9"
  }
 },
 "nbformat": 4,
 "nbformat_minor": 2
}
